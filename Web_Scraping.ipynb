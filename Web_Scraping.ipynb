{
 "cells": [
  {
   "cell_type": "code",
   "execution_count": 1,
   "id": "490f785d-2bf5-4e04-bbca-34e2ed4c8a82",
   "metadata": {},
   "outputs": [],
   "source": [
    "# Import Splinter and BeautifulSoup\n",
    "from splinter import Browser\n",
    "from bs4 import BeautifulSoup\n",
    "from webdriver_manager.chrome import ChromeDriverManager\n",
    "import pandas as pd\n",
    "import os\n",
    "import time\n",
    "import requests"
   ]
  },
  {
   "cell_type": "code",
   "execution_count": 2,
   "id": "cd15ee5e-d0be-4dee-8ef9-968adec771f9",
   "metadata": {},
   "outputs": [],
   "source": [
    "SEASONS = list(range(2016, 2024))"
   ]
  },
  {
   "cell_type": "code",
   "execution_count": 3,
   "id": "b122897c-e1a2-4880-890d-896c284cd7cc",
   "metadata": {},
   "outputs": [],
   "source": [
    "DATA_DIR = 'data2'\n",
    "STANDINGS_DIR = os.path.join(DATA_DIR, 'standings')\n",
    "SCORES_DIR = os.path.join(DATA_DIR, 'scores')"
   ]
  },
  {
   "cell_type": "code",
   "execution_count": 4,
   "id": "c0cad294-1b08-403d-8d59-a82dfcc3eedc",
   "metadata": {},
   "outputs": [],
   "source": [
    "def get_html(url, sleep=5, retries=3):\n",
    "    \n",
    "    for i in range(1, retries+1):\n",
    "        time.sleep(sleep * i)\n",
    "        \n",
    "        try:\n",
    "            response = requests.get(url, timeout=10)\n",
    "            soup = BeautifulSoup(response.content, 'lxml')\n",
    "            print(soup.title.string)\n",
    "            return str(soup)\n",
    "        except requests.exceptions.Timeout:\n",
    "            print(f'Timeout error on {url}')\n",
    "            \n",
    "    return None"
   ]
  },
  {
   "cell_type": "code",
   "execution_count": 5,
   "id": "cf4876e2-bb28-4ce5-92fa-5d8a19e3e195",
   "metadata": {},
   "outputs": [],
   "source": [
    "def scrape_season(season):\n",
    "    if not os.path.exists(STANDINGS_DIR):\n",
    "        os.makedirs(STANDINGS_DIR)\n",
    "\n",
    "    url = f\"https://www.basketball-reference.com/leagues/NBA_{season}_games.html\"\n",
    "    \n",
    "    html = get_html(url)\n",
    "    element_id = BeautifulSoup(html, 'lxml').find(id='content')\n",
    "    href_list = [href.get('href') for div in element_id for href in div.find_all('a')]\n",
    "    standings_pages = [f'https://basketball-reference.com{l}' for l in href_list]\n",
    "\n",
    "    for url in standings_pages:\n",
    "        save_path = os.path.join(STANDINGS_DIR, url.split('/')[-1])\n",
    "        if os.path.exists(save_path):\n",
    "            continue\n",
    "        html = get_html(url)\n",
    "        if html is None:\n",
    "            continue\n",
    "        html = BeautifulSoup(html, 'lxml').find(id='all_schedule')\n",
    "        with open(save_path, 'w+') as f:\n",
    "            f.write(str(html))"
   ]
  },
  {
   "cell_type": "code",
   "execution_count": null,
   "id": "f45dd3ac-f18f-48ec-8eff-02dc9f4992f4",
   "metadata": {},
   "outputs": [],
   "source": [
    "for season in SEASONS:\n",
    "    scrape_season(season)"
   ]
  },
  {
   "cell_type": "code",
   "execution_count": 6,
   "id": "ed222abc-ab3f-43f9-9c5e-bba845343cfa",
   "metadata": {},
   "outputs": [],
   "source": [
    "standings_files = os.listdir(STANDINGS_DIR)"
   ]
  },
  {
   "cell_type": "code",
   "execution_count": 7,
   "id": "9b03e155-8943-4967-a9f4-cd7f0cf81306",
   "metadata": {},
   "outputs": [],
   "source": [
    "def scrape_game(standings_file):\n",
    "\n",
    "    with open(standings_file, 'r') as f:\n",
    "        html = f.read()\n",
    "\n",
    "    soup = BeautifulSoup(html, 'lxml')\n",
    "    links = soup.find_all('a')\n",
    "    hrefs = [l.get('href') for l in links]\n",
    "    box_scores = [l for l in hrefs if l and 'boxscore' in l and '.html' in l]\n",
    "    box_scores = [f'https://www.basketball-reference.com{l}' for l in box_scores]\n",
    "\n",
    "    for url in box_scores:\n",
    "        save_path = os.path.join(SCORES_DIR, url.split('/')[-1])\n",
    "        if os.path.exists(save_path):\n",
    "            continue\n",
    "\n",
    "        html = get_html(url)\n",
    "        html = BeautifulSoup(html, 'lxml').find(id='content')\n",
    "        if not html:\n",
    "            continue\n",
    "        with open(save_path, 'w+', encoding='utf-8') as f:\n",
    "            f.write(str(html))"
   ]
  },
  {
   "cell_type": "code",
   "execution_count": 8,
   "id": "36d9afb9-091b-4ce8-8cfa-7eca8895296b",
   "metadata": {},
   "outputs": [
    {
     "name": "stdout",
     "output_type": "stream",
     "text": [
      "Mavericks vs Pistons, April 1, 2016 | Basketball-Reference.com\n",
      "Nets vs Knicks, April 1, 2016 | Basketball-Reference.com\n"
     ]
    },
    {
     "ename": "KeyboardInterrupt",
     "evalue": "",
     "output_type": "error",
     "traceback": [
      "\u001b[1;31m---------------------------------------------------------------------------\u001b[0m",
      "\u001b[1;31mKeyboardInterrupt\u001b[0m                         Traceback (most recent call last)",
      "Input \u001b[1;32mIn [8]\u001b[0m, in \u001b[0;36m<cell line: 3>\u001b[1;34m()\u001b[0m\n\u001b[0;32m      3\u001b[0m \u001b[38;5;28;01mfor\u001b[39;00m f \u001b[38;5;129;01min\u001b[39;00m standings_files:\n\u001b[0;32m      5\u001b[0m     filepath \u001b[38;5;241m=\u001b[39m os\u001b[38;5;241m.\u001b[39mpath\u001b[38;5;241m.\u001b[39mjoin(STANDINGS_DIR, f)\n\u001b[1;32m----> 7\u001b[0m     \u001b[43mscrape_game\u001b[49m\u001b[43m(\u001b[49m\u001b[43mfilepath\u001b[49m\u001b[43m)\u001b[49m\n",
      "Input \u001b[1;32mIn [7]\u001b[0m, in \u001b[0;36mscrape_game\u001b[1;34m(standings_file)\u001b[0m\n\u001b[0;32m     14\u001b[0m \u001b[38;5;28;01mif\u001b[39;00m os\u001b[38;5;241m.\u001b[39mpath\u001b[38;5;241m.\u001b[39mexists(save_path):\n\u001b[0;32m     15\u001b[0m     \u001b[38;5;28;01mcontinue\u001b[39;00m\n\u001b[1;32m---> 17\u001b[0m html \u001b[38;5;241m=\u001b[39m \u001b[43mget_html\u001b[49m\u001b[43m(\u001b[49m\u001b[43murl\u001b[49m\u001b[43m)\u001b[49m\n\u001b[0;32m     18\u001b[0m html \u001b[38;5;241m=\u001b[39m BeautifulSoup(html, \u001b[38;5;124m'\u001b[39m\u001b[38;5;124mlxml\u001b[39m\u001b[38;5;124m'\u001b[39m)\u001b[38;5;241m.\u001b[39mfind(\u001b[38;5;28mid\u001b[39m\u001b[38;5;241m=\u001b[39m\u001b[38;5;124m'\u001b[39m\u001b[38;5;124mcontent\u001b[39m\u001b[38;5;124m'\u001b[39m)\n\u001b[0;32m     19\u001b[0m \u001b[38;5;28;01mif\u001b[39;00m \u001b[38;5;129;01mnot\u001b[39;00m html:\n",
      "Input \u001b[1;32mIn [4]\u001b[0m, in \u001b[0;36mget_html\u001b[1;34m(url, sleep, retries)\u001b[0m\n\u001b[0;32m      1\u001b[0m \u001b[38;5;28;01mdef\u001b[39;00m \u001b[38;5;21mget_html\u001b[39m(url, sleep\u001b[38;5;241m=\u001b[39m\u001b[38;5;241m5\u001b[39m, retries\u001b[38;5;241m=\u001b[39m\u001b[38;5;241m3\u001b[39m):\n\u001b[0;32m      3\u001b[0m     \u001b[38;5;28;01mfor\u001b[39;00m i \u001b[38;5;129;01min\u001b[39;00m \u001b[38;5;28mrange\u001b[39m(\u001b[38;5;241m1\u001b[39m, retries\u001b[38;5;241m+\u001b[39m\u001b[38;5;241m1\u001b[39m):\n\u001b[1;32m----> 4\u001b[0m         \u001b[43mtime\u001b[49m\u001b[38;5;241;43m.\u001b[39;49m\u001b[43msleep\u001b[49m\u001b[43m(\u001b[49m\u001b[43msleep\u001b[49m\u001b[43m \u001b[49m\u001b[38;5;241;43m*\u001b[39;49m\u001b[43m \u001b[49m\u001b[43mi\u001b[49m\u001b[43m)\u001b[49m\n\u001b[0;32m      6\u001b[0m         \u001b[38;5;28;01mtry\u001b[39;00m:\n\u001b[0;32m      7\u001b[0m             response \u001b[38;5;241m=\u001b[39m requests\u001b[38;5;241m.\u001b[39mget(url, timeout\u001b[38;5;241m=\u001b[39m\u001b[38;5;241m10\u001b[39m)\n",
      "\u001b[1;31mKeyboardInterrupt\u001b[0m: "
     ]
    }
   ],
   "source": [
    "standings_files = [s for s in standings_files if '.html' in s]\n",
    "\n",
    "for f in standings_files:\n",
    "    \n",
    "    filepath = os.path.join(STANDINGS_DIR, f)\n",
    "        \n",
    "    scrape_game(filepath)"
   ]
  },
  {
   "cell_type": "code",
   "execution_count": null,
   "id": "cd785667-53b0-4868-94da-c344ed748105",
   "metadata": {},
   "outputs": [],
   "source": []
  }
 ],
 "metadata": {
  "kernelspec": {
   "display_name": "PythonData",
   "language": "python",
   "name": "pythondata"
  },
  "language_info": {
   "codemirror_mode": {
    "name": "ipython",
    "version": 3
   },
   "file_extension": ".py",
   "mimetype": "text/x-python",
   "name": "python",
   "nbconvert_exporter": "python",
   "pygments_lexer": "ipython3",
   "version": "3.9.12"
  }
 },
 "nbformat": 4,
 "nbformat_minor": 5
}
