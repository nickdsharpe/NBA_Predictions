{
 "cells": [
  {
   "cell_type": "code",
   "execution_count": 11,
   "id": "490f785d-2bf5-4e04-bbca-34e2ed4c8a82",
   "metadata": {},
   "outputs": [],
   "source": [
    "# Import Splinter and BeautifulSoup\n",
    "from splinter import Browser\n",
    "from bs4 import BeautifulSoup as soup\n",
    "from webdriver_manager.chrome import ChromeDriverManager\n",
    "import pandas as pd\n",
    "import os\n",
    "import time"
   ]
  },
  {
   "cell_type": "code",
   "execution_count": 2,
   "id": "dff9fc1e-e681-4ddc-a3e5-edbe3aa487e7",
   "metadata": {},
   "outputs": [],
   "source": [
    "executable_path = {'executable_path': ChromeDriverManager().install()}\n",
    "browser = Browser('chrome', **executable_path)"
   ]
  },
  {
   "cell_type": "code",
   "execution_count": 3,
   "id": "cd15ee5e-d0be-4dee-8ef9-968adec771f9",
   "metadata": {},
   "outputs": [],
   "source": [
    "SEASONS = list(range(2016, 2024))"
   ]
  },
  {
   "cell_type": "code",
   "execution_count": 7,
   "id": "b122897c-e1a2-4880-890d-896c284cd7cc",
   "metadata": {},
   "outputs": [],
   "source": [
    "DATA_DIR = 'data'\n",
    "STANDINGS_DIR = os.path.join(DATA_DIR, 'standings')\n",
    "SCORES_DIR = os.path.join(DATA_DIR, 'scores')"
   ]
  },
  {
   "cell_type": "code",
   "execution_count": 45,
   "id": "69e19ad2-137f-486a-b011-b899039150ed",
   "metadata": {},
   "outputs": [],
   "source": [
    "def get_html(url):\n",
    "       \n",
    "    browser = Browser('chrome', **executable_path)\n",
    "    page = browser.visit(url)\n",
    "    html = browser.html\n",
    "      \n",
    "    return html"
   ]
  },
  {
   "cell_type": "code",
   "execution_count": 46,
   "id": "13dd4639-5489-40f4-ad23-c09fd735f537",
   "metadata": {},
   "outputs": [],
   "source": [
    "season = 2016\n",
    "\n",
    "url = f\"https://www.basketball-reference.com/leagues/NBA_{season}_games.html\""
   ]
  },
  {
   "cell_type": "code",
   "execution_count": 47,
   "id": "c72b0ce8-b7c0-4f49-8468-5739ac94c1ac",
   "metadata": {},
   "outputs": [],
   "source": [
    "html = get_html(url)"
   ]
  },
  {
   "cell_type": "code",
   "execution_count": 44,
   "id": "1bbe46e9-42f9-4cd0-b095-e2172fd7f76c",
   "metadata": {},
   "outputs": [],
   "source": [
    "browser.quit()"
   ]
  },
  {
   "cell_type": "code",
   "execution_count": 49,
   "id": "037ab7d2-3b4b-456f-9871-4451036ac33c",
   "metadata": {},
   "outputs": [],
   "source": [
    "soup = soup(html, 'html.parser')"
   ]
  },
  {
   "cell_type": "code",
   "execution_count": 65,
   "id": "defe755e-0275-459a-832d-16f55e9a46f5",
   "metadata": {},
   "outputs": [],
   "source": [
    "rows = soup.find_all(id='content')"
   ]
  },
  {
   "cell_type": "code",
   "execution_count": 66,
   "id": "66b30258-5136-4787-8b0a-b72634262eb0",
   "metadata": {},
   "outputs": [
    {
     "data": {
      "text/plain": [
       "[<div id=\"content\" role=\"main\">\n",
       " <!-- fs_general_header -->\n",
       " <div class=\"adblock\">\n",
       " <!-- div#fs_fs_general_header  -->\n",
       " <style>\n",
       "     #srcom .adblock.stn,\n",
       "     #content .adblock.stn { height: auto; width: 728px; max-width:100%; aspect-ratio: 1.677419;  margin: auto; }\n",
       " .fb #content .adblock.stn { max-width: 400px; }\n",
       " </style>\n",
       " <script>\n",
       " function apiFunction(ApiHandshake)  {\n",
       "     const playerDiv = document.querySelector('[data-stn-api=\"apiFunction\"]');\n",
       "     const api = ApiHandshake(playerDiv);\n",
       "     new IntersectionObserver ( moes => { const bcr = moes.pop().boundingClientRect; api.float = bcr.y <= 0; },\n",
       "                                        { threshold: [0.9] }).observe(document.querySelector('[data-stn-api=\"apiFunction\"]'));\n",
       "  }\n",
       " </script>\n",
       " <div class=\"adblock stn\">\n",
       " <div class=\"k-azXQiRnA\" data-cid=\"13630\" data-floatposition=\"bottom-right\" data-floatwidth=\"400\" data-offsetx=\"0\" data-offsety=\"0\" data-stn-api=\"apiFunction\" data-stn-player=\"azXQiRnA\" data-type=\"float\" id=\"c_VS-sSGGbe-WAzA\"><stn-player class=\"PIZWU8y7pft2IrDe\" style=\"\"><link href=\"https://fonts.googleapis.com/css?family=Open+Sans:600\" rel=\"stylesheet\"/><link href=\"https://fonts.googleapis.com/icon?family=Material+Icons\" rel=\"stylesheet\"/></stn-player></div>\n",
       " <script data-stn-embed=\"YQA\" data-type=\"s2nScript\" src=\"//embed.sendtonews.com/player3/embedcode.js?fk=azXQiRnA&amp;cid=13630&amp;offsetx=0&amp;offsety=0&amp;floatwidth=400&amp;floatposition=bottom-right\" type=\"text/javascript\"></script>\n",
       " </div>\n",
       " <!-- /div.#fs_fs_general_header -->\n",
       " </div>\n",
       " <div class=\"filter\">\n",
       " <div class=\"current\">\n",
       " <a href=\"/leagues/NBA_2016_games-october.html\">October</a>\n",
       " </div><div class=\"\">\n",
       " <a href=\"/leagues/NBA_2016_games-november.html\">November</a>\n",
       " </div><div class=\"\">\n",
       " <a href=\"/leagues/NBA_2016_games-december.html\">December</a>\n",
       " </div><div class=\"\">\n",
       " <a href=\"/leagues/NBA_2016_games-january.html\">January</a>\n",
       " </div><div class=\"\">\n",
       " <a href=\"/leagues/NBA_2016_games-february.html\">February</a>\n",
       " </div><div class=\"\">\n",
       " <a href=\"/leagues/NBA_2016_games-march.html\">March</a>\n",
       " </div><div class=\"\">\n",
       " <a href=\"/leagues/NBA_2016_games-april.html\">April</a>\n",
       " </div><div class=\"\">\n",
       " <a href=\"/leagues/NBA_2016_games-may.html\">May</a>\n",
       " </div><div class=\"\">\n",
       " <a href=\"/leagues/NBA_2016_games-june.html\">June</a>\n",
       " </div></div>\n",
       " <div class=\"table_wrapper\" id=\"all_schedule\">\n",
       " <div class=\"section_heading assoc_schedule has_controls\" id=\"schedule_sh\">\n",
       " <span class=\"section_anchor\" data-label=\"October Schedule\" id=\"schedule_link\"></span><h2>October Schedule</h2> <div class=\"section_heading_text\">\n",
       " <ul>\n",
       " <li class=\"hasmore\"><span>Share &amp; Export</span><div><ul><li><button class=\"tooltip\" id=\"share_on_schedule\" tip=\"Use a customizable report creator that can&lt;br&gt;output HTML, CSV, or a shareable link.\" type=\"button\">Modify, Export &amp; Share Table</button></li><li><button class=\"tooltip\" tip=\"Convert the table below to comma-separated values&lt;br&gt;suitable for use with Excel\" type=\"button\">Get as Excel Workbook</button><a id=\"dlink\" style=\"display: none;\"></a></li><li><button class=\"tooltip\" tip=\"Get a link directly to this table on this page\" type=\"button\">Get table as CSV (for Excel)</button></li><li><button class=\"tooltip\" href=\"#schedule\" id=\"a_schedule\" name=\"schedule\" tip=\"\" type=\"button\">Get Link to Table</button></li><li><button class=\"tooltip\" tip=\"\" type=\"button\">About Sharing Tools</button></li><li><button class=\"tooltip\" tip=\"\" type=\"button\"><a href=\"https://www.youtube.com/watch?v=MWapXbaWs_U&amp;feature=youtu.be\" target=\"_blank\">Video: SR Sharing Tools &amp; How-to</a></button></li><li><button class=\"tooltip\" tip=\"\" type=\"button\"><a href=\"https://www.youtube.com/watch?v=JkDLV0roT14&amp;feature=youtu.be\" target=\"_blank\">Video: Stats Table Tips &amp; Tricks</a></button></li><li><button class=\"tooltip\" tip=\"\" type=\"button\"><a href=\"https://www.sports-reference.com/data_use.html\" target=\"_blank\">Data Usage Terms</a></button></li></ul></div></li></ul>\n",
       " </div>\n",
       " </div>\n",
       " <div class=\"table_container is_setup\" id=\"div_schedule\">\n",
       " <table class=\"suppress_glossary sortable stats_table now_sortable\" data-cols-to-freeze=\",1\" id=\"schedule\">\n",
       " <caption>October Schedule Table</caption>\n",
       " <colgroup><col/><col/><col/><col/><col/><col/><col/><col/><col/><col/><col/></colgroup>\n",
       " <thead>\n",
       " <tr>\n",
       " <th aria-label=\"Date\" class=\"poptip sort_default_asc center\" data-stat=\"date_game\" scope=\"col\">Date</th>\n",
       " <th aria-label=\"Start (ET)\" class=\"poptip center\" data-stat=\"game_start_time\" scope=\"col\">Start (ET)</th>\n",
       " <th aria-label=\"Visitor/Neutral\" class=\"poptip sort_default_asc center\" data-stat=\"visitor_team_name\" scope=\"col\">Visitor/Neutral</th>\n",
       " <th aria-label=\"Visitor Points\" class=\"poptip center\" data-stat=\"visitor_pts\" data-tip=\"Points\" scope=\"col\">PTS</th>\n",
       " <th aria-label=\"Home/Neutral\" class=\"poptip sort_default_asc center\" data-stat=\"home_team_name\" scope=\"col\">Home/Neutral</th>\n",
       " <th aria-label=\"Home Points\" class=\"poptip center\" data-stat=\"home_pts\" scope=\"col\">PTS</th>\n",
       " <th aria-label=\" \" class=\"poptip sort_default_asc center\" data-stat=\"box_score_text\" scope=\"col\"> </th>\n",
       " <th aria-label=\" \" class=\"poptip center\" data-stat=\"overtimes\" scope=\"col\"> </th>\n",
       " <th aria-label=\"Attend.\" class=\"poptip center\" data-stat=\"attendance\" scope=\"col\">Attend.</th>\n",
       " <th aria-label=\"Arena\" class=\"poptip sort_default_asc center\" data-stat=\"arena_name\" scope=\"col\">Arena</th>\n",
       " <th aria-label=\"Notes\" class=\"poptip sort_default_asc show_partial_when_sorting center\" data-stat=\"game_remarks\" scope=\"col\">Notes</th>\n",
       " </tr>\n",
       " </thead>\n",
       " <tbody><tr data-row=\"0\"><th class=\"left\" csk=\"201510270CHI\" data-stat=\"date_game\" scope=\"row\"><a href=\"/boxscores/index.fcgi?month=10&amp;day=27&amp;year=2015\">Tue, Oct 27, 2015</a></th><td class=\"right\" data-stat=\"game_start_time\">8:00p</td><td class=\"left\" csk=\"CLE.201510270CHI\" data-stat=\"visitor_team_name\"><a href=\"/teams/CLE/2016.html\">Cleveland Cavaliers</a></td><td class=\"right\" data-stat=\"visitor_pts\">95</td><td class=\"left\" csk=\"CHI.201510270CHI\" data-stat=\"home_team_name\"><a href=\"/teams/CHI/2016.html\">Chicago Bulls</a></td><td class=\"right\" data-stat=\"home_pts\">97</td><td class=\"center\" data-stat=\"box_score_text\"><a href=\"/boxscores/201510270CHI.html\">Box Score</a></td><td class=\"center iz\" data-stat=\"overtimes\"></td><td class=\"right\" data-stat=\"attendance\">21,957</td><td class=\"left\" data-stat=\"arena_name\">United Center</td><td class=\"left iz\" data-stat=\"game_remarks\"></td></tr>\n",
       " <tr data-row=\"1\"><th class=\"left\" csk=\"201510270ATL\" data-stat=\"date_game\" scope=\"row\"><a href=\"/boxscores/index.fcgi?month=10&amp;day=27&amp;year=2015\">Tue, Oct 27, 2015</a></th><td class=\"right\" data-stat=\"game_start_time\">8:00p</td><td class=\"left\" csk=\"DET.201510270ATL\" data-stat=\"visitor_team_name\"><a href=\"/teams/DET/2016.html\">Detroit Pistons</a></td><td class=\"right\" data-stat=\"visitor_pts\">106</td><td class=\"left\" csk=\"ATL.201510270ATL\" data-stat=\"home_team_name\"><a href=\"/teams/ATL/2016.html\">Atlanta Hawks</a></td><td class=\"right\" data-stat=\"home_pts\">94</td><td class=\"center\" data-stat=\"box_score_text\"><a href=\"/boxscores/201510270ATL.html\">Box Score</a></td><td class=\"center iz\" data-stat=\"overtimes\"></td><td class=\"right\" data-stat=\"attendance\">19,187</td><td class=\"left\" data-stat=\"arena_name\">Philips Arena</td><td class=\"left iz\" data-stat=\"game_remarks\"></td></tr>\n",
       " <tr data-row=\"2\"><th class=\"left\" csk=\"201510270GSW\" data-stat=\"date_game\" scope=\"row\"><a href=\"/boxscores/index.fcgi?month=10&amp;day=27&amp;year=2015\">Tue, Oct 27, 2015</a></th><td class=\"right\" data-stat=\"game_start_time\">10:30p</td><td class=\"left\" csk=\"NOP.201510270GSW\" data-stat=\"visitor_team_name\"><a href=\"/teams/NOP/2016.html\">New Orleans Pelicans</a></td><td class=\"right\" data-stat=\"visitor_pts\">95</td><td class=\"left\" csk=\"GSW.201510270GSW\" data-stat=\"home_team_name\"><a href=\"/teams/GSW/2016.html\">Golden State Warriors</a></td><td class=\"right\" data-stat=\"home_pts\">111</td><td class=\"center\" data-stat=\"box_score_text\"><a href=\"/boxscores/201510270GSW.html\">Box Score</a></td><td class=\"center iz\" data-stat=\"overtimes\"></td><td class=\"right\" data-stat=\"attendance\">19,596</td><td class=\"left\" data-stat=\"arena_name\">Oracle Arena</td><td class=\"left iz\" data-stat=\"game_remarks\"></td></tr>\n",
       " <tr data-row=\"3\"><th class=\"left\" csk=\"201510280ORL\" data-stat=\"date_game\" scope=\"row\"><a href=\"/boxscores/index.fcgi?month=10&amp;day=28&amp;year=2015\">Wed, Oct 28, 2015</a></th><td class=\"right\" data-stat=\"game_start_time\">7:00p</td><td class=\"left\" csk=\"WAS.201510280ORL\" data-stat=\"visitor_team_name\"><a href=\"/teams/WAS/2016.html\">Washington Wizards</a></td><td class=\"right\" data-stat=\"visitor_pts\">88</td><td class=\"left\" csk=\"ORL.201510280ORL\" data-stat=\"home_team_name\"><a href=\"/teams/ORL/2016.html\">Orlando Magic</a></td><td class=\"right\" data-stat=\"home_pts\">87</td><td class=\"center\" data-stat=\"box_score_text\"><a href=\"/boxscores/201510280ORL.html\">Box Score</a></td><td class=\"center iz\" data-stat=\"overtimes\"></td><td class=\"right\" data-stat=\"attendance\">18,846</td><td class=\"left\" data-stat=\"arena_name\">Amway Center</td><td class=\"left iz\" data-stat=\"game_remarks\"></td></tr>\n",
       " <tr data-row=\"4\"><th class=\"left\" csk=\"201510280BOS\" data-stat=\"date_game\" scope=\"row\"><a href=\"/boxscores/index.fcgi?month=10&amp;day=28&amp;year=2015\">Wed, Oct 28, 2015</a></th><td class=\"right\" data-stat=\"game_start_time\">7:30p</td><td class=\"left\" csk=\"PHI.201510280BOS\" data-stat=\"visitor_team_name\"><a href=\"/teams/PHI/2016.html\">Philadelphia 76ers</a></td><td class=\"right\" data-stat=\"visitor_pts\">95</td><td class=\"left\" csk=\"BOS.201510280BOS\" data-stat=\"home_team_name\"><a href=\"/teams/BOS/2016.html\">Boston Celtics</a></td><td class=\"right\" data-stat=\"home_pts\">112</td><td class=\"center\" data-stat=\"box_score_text\"><a href=\"/boxscores/201510280BOS.html\">Box Score</a></td><td class=\"center iz\" data-stat=\"overtimes\"></td><td class=\"right\" data-stat=\"attendance\">18,624</td><td class=\"left\" data-stat=\"arena_name\">TD Garden</td><td class=\"left iz\" data-stat=\"game_remarks\"></td></tr>\n",
       " <tr data-row=\"5\"><th class=\"left\" csk=\"201510280BRK\" data-stat=\"date_game\" scope=\"row\"><a href=\"/boxscores/index.fcgi?month=10&amp;day=28&amp;year=2015\">Wed, Oct 28, 2015</a></th><td class=\"right\" data-stat=\"game_start_time\">7:30p</td><td class=\"left\" csk=\"CHI.201510280BRK\" data-stat=\"visitor_team_name\"><a href=\"/teams/CHI/2016.html\">Chicago Bulls</a></td><td class=\"right\" data-stat=\"visitor_pts\">115</td><td class=\"left\" csk=\"BRK.201510280BRK\" data-stat=\"home_team_name\"><a href=\"/teams/BRK/2016.html\">Brooklyn Nets</a></td><td class=\"right\" data-stat=\"home_pts\">100</td><td class=\"center\" data-stat=\"box_score_text\"><a href=\"/boxscores/201510280BRK.html\">Box Score</a></td><td class=\"center iz\" data-stat=\"overtimes\"></td><td class=\"right\" data-stat=\"attendance\">17,732</td><td class=\"left\" data-stat=\"arena_name\">Barclays Center</td><td class=\"left iz\" data-stat=\"game_remarks\"></td></tr>\n",
       " <tr data-row=\"6\"><th class=\"left\" csk=\"201510280DET\" data-stat=\"date_game\" scope=\"row\"><a href=\"/boxscores/index.fcgi?month=10&amp;day=28&amp;year=2015\">Wed, Oct 28, 2015</a></th><td class=\"right\" data-stat=\"game_start_time\">7:30p</td><td class=\"left\" csk=\"UTA.201510280DET\" data-stat=\"visitor_team_name\"><a href=\"/teams/UTA/2016.html\">Utah Jazz</a></td><td class=\"right\" data-stat=\"visitor_pts\">87</td><td class=\"left\" csk=\"DET.201510280DET\" data-stat=\"home_team_name\"><a href=\"/teams/DET/2016.html\">Detroit Pistons</a></td><td class=\"right\" data-stat=\"home_pts\">92</td><td class=\"center\" data-stat=\"box_score_text\"><a href=\"/boxscores/201510280DET.html\">Box Score</a></td><td class=\"center iz\" data-stat=\"overtimes\"></td><td class=\"right\" data-stat=\"attendance\">18,434</td><td class=\"left\" data-stat=\"arena_name\">The Palace of Auburn Hills</td><td class=\"left iz\" data-stat=\"game_remarks\"></td></tr>\n",
       " <tr data-row=\"7\"><th class=\"left\" csk=\"201510280TOR\" data-stat=\"date_game\" scope=\"row\"><a href=\"/boxscores/index.fcgi?month=10&amp;day=28&amp;year=2015\">Wed, Oct 28, 2015</a></th><td class=\"right\" data-stat=\"game_start_time\">7:30p</td><td class=\"left\" csk=\"IND.201510280TOR\" data-stat=\"visitor_team_name\"><a href=\"/teams/IND/2016.html\">Indiana Pacers</a></td><td class=\"right\" data-stat=\"visitor_pts\">99</td><td class=\"left\" csk=\"TOR.201510280TOR\" data-stat=\"home_team_name\"><a href=\"/teams/TOR/2016.html\">Toronto Raptors</a></td><td class=\"right\" data-stat=\"home_pts\">106</td><td class=\"center\" data-stat=\"box_score_text\"><a href=\"/boxscores/201510280TOR.html\">Box Score</a></td><td class=\"center iz\" data-stat=\"overtimes\"></td><td class=\"right\" data-stat=\"attendance\">19,800</td><td class=\"left\" data-stat=\"arena_name\">Air Canada Centre</td><td class=\"left iz\" data-stat=\"game_remarks\"></td></tr>\n",
       " <tr data-row=\"8\"><th class=\"left\" csk=\"201510280MIA\" data-stat=\"date_game\" scope=\"row\"><a href=\"/boxscores/index.fcgi?month=10&amp;day=28&amp;year=2015\">Wed, Oct 28, 2015</a></th><td class=\"right\" data-stat=\"game_start_time\">7:30p</td><td class=\"left\" csk=\"CHO.201510280MIA\" data-stat=\"visitor_team_name\"><a href=\"/teams/CHO/2016.html\">Charlotte Hornets</a></td><td class=\"right\" data-stat=\"visitor_pts\">94</td><td class=\"left\" csk=\"MIA.201510280MIA\" data-stat=\"home_team_name\"><a href=\"/teams/MIA/2016.html\">Miami Heat</a></td><td class=\"right\" data-stat=\"home_pts\">104</td><td class=\"center\" data-stat=\"box_score_text\"><a href=\"/boxscores/201510280MIA.html\">Box Score</a></td><td class=\"center iz\" data-stat=\"overtimes\"></td><td class=\"right\" data-stat=\"attendance\">19,724</td><td class=\"left\" data-stat=\"arena_name\">AmericanAirlines Arena</td><td class=\"left iz\" data-stat=\"game_remarks\"></td></tr>\n",
       " <tr data-row=\"9\"><th class=\"left\" csk=\"201510280MIL\" data-stat=\"date_game\" scope=\"row\"><a href=\"/boxscores/index.fcgi?month=10&amp;day=28&amp;year=2015\">Wed, Oct 28, 2015</a></th><td class=\"right\" data-stat=\"game_start_time\">8:00p</td><td class=\"left\" csk=\"NYK.201510280MIL\" data-stat=\"visitor_team_name\"><a href=\"/teams/NYK/2016.html\">New York Knicks</a></td><td class=\"right\" data-stat=\"visitor_pts\">122</td><td class=\"left\" csk=\"MIL.201510280MIL\" data-stat=\"home_team_name\"><a href=\"/teams/MIL/2016.html\">Milwaukee Bucks</a></td><td class=\"right\" data-stat=\"home_pts\">97</td><td class=\"center\" data-stat=\"box_score_text\"><a href=\"/boxscores/201510280MIL.html\">Box Score</a></td><td class=\"center iz\" data-stat=\"overtimes\"></td><td class=\"right\" data-stat=\"attendance\">18,717</td><td class=\"left\" data-stat=\"arena_name\">BMO Harris Bradley Center</td><td class=\"left iz\" data-stat=\"game_remarks\"></td></tr>\n",
       " <tr data-row=\"10\"><th class=\"left\" csk=\"201510280OKC\" data-stat=\"date_game\" scope=\"row\"><a href=\"/boxscores/index.fcgi?month=10&amp;day=28&amp;year=2015\">Wed, Oct 28, 2015</a></th><td class=\"right\" data-stat=\"game_start_time\">8:00p</td><td class=\"left\" csk=\"SAS.201510280OKC\" data-stat=\"visitor_team_name\"><a href=\"/teams/SAS/2016.html\">San Antonio Spurs</a></td><td class=\"right\" data-stat=\"visitor_pts\">106</td><td class=\"left\" csk=\"OKC.201510280OKC\" data-stat=\"home_team_name\"><a href=\"/teams/OKC/2016.html\">Oklahoma City Thunder</a></td><td class=\"right\" data-stat=\"home_pts\">112</td><td class=\"center\" data-stat=\"box_score_text\"><a href=\"/boxscores/201510280OKC.html\">Box Score</a></td><td class=\"center iz\" data-stat=\"overtimes\"></td><td class=\"right\" data-stat=\"attendance\">18,203</td><td class=\"left\" data-stat=\"arena_name\">Chesapeake Energy Arena</td><td class=\"left iz\" data-stat=\"game_remarks\"></td></tr>\n",
       " <tr data-row=\"11\"><th class=\"left\" csk=\"201510280MEM\" data-stat=\"date_game\" scope=\"row\"><a href=\"/boxscores/index.fcgi?month=10&amp;day=28&amp;year=2015\">Wed, Oct 28, 2015</a></th><td class=\"right\" data-stat=\"game_start_time\">8:00p</td><td class=\"left\" csk=\"CLE.201510280MEM\" data-stat=\"visitor_team_name\"><a href=\"/teams/CLE/2016.html\">Cleveland Cavaliers</a></td><td class=\"right\" data-stat=\"visitor_pts\">106</td><td class=\"left\" csk=\"MEM.201510280MEM\" data-stat=\"home_team_name\"><a href=\"/teams/MEM/2016.html\">Memphis Grizzlies</a></td><td class=\"right\" data-stat=\"home_pts\">76</td><td class=\"center\" data-stat=\"box_score_text\"><a href=\"/boxscores/201510280MEM.html\">Box Score</a></td><td class=\"center iz\" data-stat=\"overtimes\"></td><td class=\"right\" data-stat=\"attendance\">18,119</td><td class=\"left\" data-stat=\"arena_name\">FedEx Forum</td><td class=\"left iz\" data-stat=\"game_remarks\"></td></tr>\n",
       " <tr data-row=\"12\"><th class=\"left\" csk=\"201510280HOU\" data-stat=\"date_game\" scope=\"row\"><a href=\"/boxscores/index.fcgi?month=10&amp;day=28&amp;year=2015\">Wed, Oct 28, 2015</a></th><td class=\"right\" data-stat=\"game_start_time\">8:00p</td><td class=\"left\" csk=\"DEN.201510280HOU\" data-stat=\"visitor_team_name\"><a href=\"/teams/DEN/2016.html\">Denver Nuggets</a></td><td class=\"right\" data-stat=\"visitor_pts\">105</td><td class=\"left\" csk=\"HOU.201510280HOU\" data-stat=\"home_team_name\"><a href=\"/teams/HOU/2016.html\">Houston Rockets</a></td><td class=\"right\" data-stat=\"home_pts\">85</td><td class=\"center\" data-stat=\"box_score_text\"><a href=\"/boxscores/201510280HOU.html\">Box Score</a></td><td class=\"center iz\" data-stat=\"overtimes\"></td><td class=\"right\" data-stat=\"attendance\">18,240</td><td class=\"left\" data-stat=\"arena_name\">Toyota Center</td><td class=\"left iz\" data-stat=\"game_remarks\"></td></tr>\n",
       " <tr data-row=\"13\"><th class=\"left\" csk=\"201510280PHO\" data-stat=\"date_game\" scope=\"row\"><a href=\"/boxscores/index.fcgi?month=10&amp;day=28&amp;year=2015\">Wed, Oct 28, 2015</a></th><td class=\"right\" data-stat=\"game_start_time\">10:00p</td><td class=\"left\" csk=\"DAL.201510280PHO\" data-stat=\"visitor_team_name\"><a href=\"/teams/DAL/2016.html\">Dallas Mavericks</a></td><td class=\"right\" data-stat=\"visitor_pts\">111</td><td class=\"left\" csk=\"PHO.201510280PHO\" data-stat=\"home_team_name\"><a href=\"/teams/PHO/2016.html\">Phoenix Suns</a></td><td class=\"right\" data-stat=\"home_pts\">95</td><td class=\"center\" data-stat=\"box_score_text\"><a href=\"/boxscores/201510280PHO.html\">Box Score</a></td><td class=\"center iz\" data-stat=\"overtimes\"></td><td class=\"right\" data-stat=\"attendance\">18,055</td><td class=\"left\" data-stat=\"arena_name\">Talking Stick Resort Arena</td><td class=\"left iz\" data-stat=\"game_remarks\"></td></tr>\n",
       " <tr data-row=\"14\"><th class=\"left\" csk=\"201510280POR\" data-stat=\"date_game\" scope=\"row\"><a href=\"/boxscores/index.fcgi?month=10&amp;day=28&amp;year=2015\">Wed, Oct 28, 2015</a></th><td class=\"right\" data-stat=\"game_start_time\">10:00p</td><td class=\"left\" csk=\"NOP.201510280POR\" data-stat=\"visitor_team_name\"><a href=\"/teams/NOP/2016.html\">New Orleans Pelicans</a></td><td class=\"right\" data-stat=\"visitor_pts\">94</td><td class=\"left\" csk=\"POR.201510280POR\" data-stat=\"home_team_name\"><a href=\"/teams/POR/2016.html\">Portland Trail Blazers</a></td><td class=\"right\" data-stat=\"home_pts\">112</td><td class=\"center\" data-stat=\"box_score_text\"><a href=\"/boxscores/201510280POR.html\">Box Score</a></td><td class=\"center iz\" data-stat=\"overtimes\"></td><td class=\"right\" data-stat=\"attendance\">19,393</td><td class=\"left\" data-stat=\"arena_name\">Moda Center</td><td class=\"left iz\" data-stat=\"game_remarks\"></td></tr>\n",
       " <tr data-row=\"15\"><th class=\"left\" csk=\"201510280SAC\" data-stat=\"date_game\" scope=\"row\"><a href=\"/boxscores/index.fcgi?month=10&amp;day=28&amp;year=2015\">Wed, Oct 28, 2015</a></th><td class=\"right\" data-stat=\"game_start_time\">10:00p</td><td class=\"left\" csk=\"LAC.201510280SAC\" data-stat=\"visitor_team_name\"><a href=\"/teams/LAC/2016.html\">Los Angeles Clippers</a></td><td class=\"right\" data-stat=\"visitor_pts\">111</td><td class=\"left\" csk=\"SAC.201510280SAC\" data-stat=\"home_team_name\"><a href=\"/teams/SAC/2016.html\">Sacramento Kings</a></td><td class=\"right\" data-stat=\"home_pts\">104</td><td class=\"center\" data-stat=\"box_score_text\"><a href=\"/boxscores/201510280SAC.html\">Box Score</a></td><td class=\"center iz\" data-stat=\"overtimes\"></td><td class=\"right\" data-stat=\"attendance\">17,458</td><td class=\"left\" data-stat=\"arena_name\">Sleep Train Arena</td><td class=\"left iz\" data-stat=\"game_remarks\"></td></tr>\n",
       " <tr data-row=\"16\"><th class=\"left\" csk=\"201510280LAL\" data-stat=\"date_game\" scope=\"row\"><a href=\"/boxscores/index.fcgi?month=10&amp;day=28&amp;year=2015\">Wed, Oct 28, 2015</a></th><td class=\"right\" data-stat=\"game_start_time\">10:30p</td><td class=\"left\" csk=\"MIN.201510280LAL\" data-stat=\"visitor_team_name\"><a href=\"/teams/MIN/2016.html\">Minnesota Timberwolves</a></td><td class=\"right\" data-stat=\"visitor_pts\">112</td><td class=\"left\" csk=\"LAL.201510280LAL\" data-stat=\"home_team_name\"><a href=\"/teams/LAL/2016.html\">Los Angeles Lakers</a></td><td class=\"right\" data-stat=\"home_pts\">111</td><td class=\"center\" data-stat=\"box_score_text\"><a href=\"/boxscores/201510280LAL.html\">Box Score</a></td><td class=\"center iz\" data-stat=\"overtimes\"></td><td class=\"right\" data-stat=\"attendance\">18,997</td><td class=\"left\" data-stat=\"arena_name\">STAPLES Center</td><td class=\"left iz\" data-stat=\"game_remarks\"></td></tr>\n",
       " <tr data-row=\"17\"><th class=\"left\" csk=\"201510290IND\" data-stat=\"date_game\" scope=\"row\"><a href=\"/boxscores/index.fcgi?month=10&amp;day=29&amp;year=2015\">Thu, Oct 29, 2015</a></th><td class=\"right\" data-stat=\"game_start_time\">7:00p</td><td class=\"left\" csk=\"MEM.201510290IND\" data-stat=\"visitor_team_name\"><a href=\"/teams/MEM/2016.html\">Memphis Grizzlies</a></td><td class=\"right\" data-stat=\"visitor_pts\">112</td><td class=\"left\" csk=\"IND.201510290IND\" data-stat=\"home_team_name\"><a href=\"/teams/IND/2016.html\">Indiana Pacers</a></td><td class=\"right\" data-stat=\"home_pts\">103</td><td class=\"center\" data-stat=\"box_score_text\"><a href=\"/boxscores/201510290IND.html\">Box Score</a></td><td class=\"center iz\" data-stat=\"overtimes\"></td><td class=\"right\" data-stat=\"attendance\">18,165</td><td class=\"left\" data-stat=\"arena_name\">Bankers Life Fieldhouse</td><td class=\"left iz\" data-stat=\"game_remarks\"></td></tr>\n",
       " <tr data-row=\"18\"><th class=\"left\" csk=\"201510290NYK\" data-stat=\"date_game\" scope=\"row\"><a href=\"/boxscores/index.fcgi?month=10&amp;day=29&amp;year=2015\">Thu, Oct 29, 2015</a></th><td class=\"right\" data-stat=\"game_start_time\">8:00p</td><td class=\"left\" csk=\"ATL.201510290NYK\" data-stat=\"visitor_team_name\"><a href=\"/teams/ATL/2016.html\">Atlanta Hawks</a></td><td class=\"right\" data-stat=\"visitor_pts\">112</td><td class=\"left\" csk=\"NYK.201510290NYK\" data-stat=\"home_team_name\"><a href=\"/teams/NYK/2016.html\">New York Knicks</a></td><td class=\"right\" data-stat=\"home_pts\">101</td><td class=\"center\" data-stat=\"box_score_text\"><a href=\"/boxscores/201510290NYK.html\">Box Score</a></td><td class=\"center iz\" data-stat=\"overtimes\"></td><td class=\"right\" data-stat=\"attendance\">19,812</td><td class=\"left\" data-stat=\"arena_name\">Madison Square Garden (IV)</td><td class=\"left iz\" data-stat=\"game_remarks\"></td></tr>\n",
       " <tr data-row=\"19\"><th class=\"left\" csk=\"201510290LAC\" data-stat=\"date_game\" scope=\"row\"><a href=\"/boxscores/index.fcgi?month=10&amp;day=29&amp;year=2015\">Thu, Oct 29, 2015</a></th><td class=\"right\" data-stat=\"game_start_time\">10:30p</td><td class=\"left\" csk=\"DAL.201510290LAC\" data-stat=\"visitor_team_name\"><a href=\"/teams/DAL/2016.html\">Dallas Mavericks</a></td><td class=\"right\" data-stat=\"visitor_pts\">88</td><td class=\"left\" csk=\"LAC.201510290LAC\" data-stat=\"home_team_name\"><a href=\"/teams/LAC/2016.html\">Los Angeles Clippers</a></td><td class=\"right\" data-stat=\"home_pts\">104</td><td class=\"center\" data-stat=\"box_score_text\"><a href=\"/boxscores/201510290LAC.html\">Box Score</a></td><td class=\"center iz\" data-stat=\"overtimes\"></td><td class=\"right\" data-stat=\"attendance\">19,218</td><td class=\"left\" data-stat=\"arena_name\">STAPLES Center</td><td class=\"left iz\" data-stat=\"game_remarks\"></td></tr>\n",
       " <tr data-row=\"20\"><th class=\"left\" csk=\"201510300CLE\" data-stat=\"date_game\" scope=\"row\"><a href=\"/boxscores/index.fcgi?month=10&amp;day=30&amp;year=2015\">Fri, Oct 30, 2015</a></th><td class=\"right\" data-stat=\"game_start_time\">7:00p</td><td class=\"left\" csk=\"MIA.201510300CLE\" data-stat=\"visitor_team_name\"><a href=\"/teams/MIA/2016.html\">Miami Heat</a></td><td class=\"right\" data-stat=\"visitor_pts\">92</td><td class=\"left\" csk=\"CLE.201510300CLE\" data-stat=\"home_team_name\"><a href=\"/teams/CLE/2016.html\">Cleveland Cavaliers</a></td><td class=\"right\" data-stat=\"home_pts\">102</td><td class=\"center\" data-stat=\"box_score_text\"><a href=\"/boxscores/201510300CLE.html\">Box Score</a></td><td class=\"center iz\" data-stat=\"overtimes\"></td><td class=\"right\" data-stat=\"attendance\">20,562</td><td class=\"left\" data-stat=\"arena_name\">Quicken Loans Arena</td><td class=\"left iz\" data-stat=\"game_remarks\"></td></tr>\n",
       " <tr data-row=\"21\"><th class=\"left\" csk=\"201510300PHI\" data-stat=\"date_game\" scope=\"row\"><a href=\"/boxscores/index.fcgi?month=10&amp;day=30&amp;year=2015\">Fri, Oct 30, 2015</a></th><td class=\"right\" data-stat=\"game_start_time\">7:00p</td><td class=\"left\" csk=\"UTA.201510300PHI\" data-stat=\"visitor_team_name\"><a href=\"/teams/UTA/2016.html\">Utah Jazz</a></td><td class=\"right\" data-stat=\"visitor_pts\">99</td><td class=\"left\" csk=\"PHI.201510300PHI\" data-stat=\"home_team_name\"><a href=\"/teams/PHI/2016.html\">Philadelphia 76ers</a></td><td class=\"right\" data-stat=\"home_pts\">71</td><td class=\"center\" data-stat=\"box_score_text\"><a href=\"/boxscores/201510300PHI.html\">Box Score</a></td><td class=\"center iz\" data-stat=\"overtimes\"></td><td class=\"right\" data-stat=\"attendance\">17,122</td><td class=\"left\" data-stat=\"arena_name\">Wells Fargo Center</td><td class=\"left iz\" data-stat=\"game_remarks\"></td></tr>\n",
       " <tr data-row=\"22\"><th class=\"left\" csk=\"201510300ORL\" data-stat=\"date_game\" scope=\"row\"><a href=\"/boxscores/index.fcgi?month=10&amp;day=30&amp;year=2015\">Fri, Oct 30, 2015</a></th><td class=\"right\" data-stat=\"game_start_time\">7:00p</td><td class=\"left\" csk=\"OKC.201510300ORL\" data-stat=\"visitor_team_name\"><a href=\"/teams/OKC/2016.html\">Oklahoma City Thunder</a></td><td class=\"right\" data-stat=\"visitor_pts\">139</td><td class=\"left\" csk=\"ORL.201510300ORL\" data-stat=\"home_team_name\"><a href=\"/teams/ORL/2016.html\">Orlando Magic</a></td><td class=\"right\" data-stat=\"home_pts\">136</td><td class=\"center\" data-stat=\"box_score_text\"><a href=\"/boxscores/201510300ORL.html\">Box Score</a></td><td class=\"center\" data-stat=\"overtimes\">2OT</td><td class=\"right\" data-stat=\"attendance\">18,846</td><td class=\"left\" data-stat=\"arena_name\">Amway Center</td><td class=\"left iz\" data-stat=\"game_remarks\"></td></tr>\n",
       " <tr data-row=\"23\"><th class=\"left\" csk=\"201510300BOS\" data-stat=\"date_game\" scope=\"row\"><a href=\"/boxscores/index.fcgi?month=10&amp;day=30&amp;year=2015\">Fri, Oct 30, 2015</a></th><td class=\"right\" data-stat=\"game_start_time\">7:30p</td><td class=\"left\" csk=\"TOR.201510300BOS\" data-stat=\"visitor_team_name\"><a href=\"/teams/TOR/2016.html\">Toronto Raptors</a></td><td class=\"right\" data-stat=\"visitor_pts\">113</td><td class=\"left\" csk=\"BOS.201510300BOS\" data-stat=\"home_team_name\"><a href=\"/teams/BOS/2016.html\">Boston Celtics</a></td><td class=\"right\" data-stat=\"home_pts\">103</td><td class=\"center\" data-stat=\"box_score_text\"><a href=\"/boxscores/201510300BOS.html\">Box Score</a></td><td class=\"center iz\" data-stat=\"overtimes\"></td><td class=\"right\" data-stat=\"attendance\">16,898</td><td class=\"left\" data-stat=\"arena_name\">TD Garden</td><td class=\"left iz\" data-stat=\"game_remarks\"></td></tr>\n",
       " <tr data-row=\"24\"><th class=\"left\" csk=\"201510300DET\" data-stat=\"date_game\" scope=\"row\"><a href=\"/boxscores/index.fcgi?month=10&amp;day=30&amp;year=2015\">Fri, Oct 30, 2015</a></th><td class=\"right\" data-stat=\"game_start_time\">7:30p</td><td class=\"left\" csk=\"CHI.201510300DET\" data-stat=\"visitor_team_name\"><a href=\"/teams/CHI/2016.html\">Chicago Bulls</a></td><td class=\"right\" data-stat=\"visitor_pts\">94</td><td class=\"left\" csk=\"DET.201510300DET\" data-stat=\"home_team_name\"><a href=\"/teams/DET/2016.html\">Detroit Pistons</a></td><td class=\"right\" data-stat=\"home_pts\">98</td><td class=\"center\" data-stat=\"box_score_text\"><a href=\"/boxscores/201510300DET.html\">Box Score</a></td><td class=\"center\" data-stat=\"overtimes\">OT</td><td class=\"right\" data-stat=\"attendance\">16,035</td><td class=\"left\" data-stat=\"arena_name\">The Palace of Auburn Hills</td><td class=\"left iz\" data-stat=\"game_remarks\"></td></tr>\n",
       " <tr data-row=\"25\"><th class=\"left\" csk=\"201510300ATL\" data-stat=\"date_game\" scope=\"row\"><a href=\"/boxscores/index.fcgi?month=10&amp;day=30&amp;year=2015\">Fri, Oct 30, 2015</a></th><td class=\"right\" data-stat=\"game_start_time\">8:00p</td><td class=\"left\" csk=\"CHO.201510300ATL\" data-stat=\"visitor_team_name\"><a href=\"/teams/CHO/2016.html\">Charlotte Hornets</a></td><td class=\"right\" data-stat=\"visitor_pts\">94</td><td class=\"left\" csk=\"ATL.201510300ATL\" data-stat=\"home_team_name\"><a href=\"/teams/ATL/2016.html\">Atlanta Hawks</a></td><td class=\"right\" data-stat=\"home_pts\">97</td><td class=\"center\" data-stat=\"box_score_text\"><a href=\"/boxscores/201510300ATL.html\">Box Score</a></td><td class=\"center iz\" data-stat=\"overtimes\"></td><td class=\"right\" data-stat=\"attendance\">17,024</td><td class=\"left\" data-stat=\"arena_name\">Philips Arena</td><td class=\"left iz\" data-stat=\"game_remarks\"></td></tr>\n",
       " <tr data-row=\"26\"><th class=\"left\" csk=\"201510300MIL\" data-stat=\"date_game\" scope=\"row\"><a href=\"/boxscores/index.fcgi?month=10&amp;day=30&amp;year=2015\">Fri, Oct 30, 2015</a></th><td class=\"right\" data-stat=\"game_start_time\">8:00p</td><td class=\"left\" csk=\"WAS.201510300MIL\" data-stat=\"visitor_team_name\"><a href=\"/teams/WAS/2016.html\">Washington Wizards</a></td><td class=\"right\" data-stat=\"visitor_pts\">118</td><td class=\"left\" csk=\"MIL.201510300MIL\" data-stat=\"home_team_name\"><a href=\"/teams/MIL/2016.html\">Milwaukee Bucks</a></td><td class=\"right\" data-stat=\"home_pts\">113</td><td class=\"center\" data-stat=\"box_score_text\"><a href=\"/boxscores/201510300MIL.html\">Box Score</a></td><td class=\"center iz\" data-stat=\"overtimes\"></td><td class=\"right\" data-stat=\"attendance\">13,858</td><td class=\"left\" data-stat=\"arena_name\">BMO Harris Bradley Center</td><td class=\"left iz\" data-stat=\"game_remarks\"></td></tr>\n",
       " <tr data-row=\"27\"><th class=\"left\" csk=\"201510300SAS\" data-stat=\"date_game\" scope=\"row\"><a href=\"/boxscores/index.fcgi?month=10&amp;day=30&amp;year=2015\">Fri, Oct 30, 2015</a></th><td class=\"right\" data-stat=\"game_start_time\">8:30p</td><td class=\"left\" csk=\"BRK.201510300SAS\" data-stat=\"visitor_team_name\"><a href=\"/teams/BRK/2016.html\">Brooklyn Nets</a></td><td class=\"right\" data-stat=\"visitor_pts\">75</td><td class=\"left\" csk=\"SAS.201510300SAS\" data-stat=\"home_team_name\"><a href=\"/teams/SAS/2016.html\">San Antonio Spurs</a></td><td class=\"right\" data-stat=\"home_pts\">102</td><td class=\"center\" data-stat=\"box_score_text\"><a href=\"/boxscores/201510300SAS.html\">Box Score</a></td><td class=\"center iz\" data-stat=\"overtimes\"></td><td class=\"right\" data-stat=\"attendance\">18,418</td><td class=\"left\" data-stat=\"arena_name\">AT&amp;T Center</td><td class=\"left iz\" data-stat=\"game_remarks\"></td></tr>\n",
       " <tr data-row=\"28\"><th class=\"left\" csk=\"201510300DEN\" data-stat=\"date_game\" scope=\"row\"><a href=\"/boxscores/index.fcgi?month=10&amp;day=30&amp;year=2015\">Fri, Oct 30, 2015</a></th><td class=\"right\" data-stat=\"game_start_time\">9:00p</td><td class=\"left\" csk=\"MIN.201510300DEN\" data-stat=\"visitor_team_name\"><a href=\"/teams/MIN/2016.html\">Minnesota Timberwolves</a></td><td class=\"right\" data-stat=\"visitor_pts\">95</td><td class=\"left\" csk=\"DEN.201510300DEN\" data-stat=\"home_team_name\"><a href=\"/teams/DEN/2016.html\">Denver Nuggets</a></td><td class=\"right\" data-stat=\"home_pts\">78</td><td class=\"center\" data-stat=\"box_score_text\"><a href=\"/boxscores/201510300DEN.html\">Box Score</a></td><td class=\"center iz\" data-stat=\"overtimes\"></td><td class=\"right\" data-stat=\"attendance\">17,660</td><td class=\"left\" data-stat=\"arena_name\">Pepsi Center</td><td class=\"left iz\" data-stat=\"game_remarks\"></td></tr>\n",
       " <tr data-row=\"29\"><th class=\"left\" csk=\"201510300HOU\" data-stat=\"date_game\" scope=\"row\"><a href=\"/boxscores/index.fcgi?month=10&amp;day=30&amp;year=2015\">Fri, Oct 30, 2015</a></th><td class=\"right\" data-stat=\"game_start_time\">9:30p</td><td class=\"left\" csk=\"GSW.201510300HOU\" data-stat=\"visitor_team_name\"><a href=\"/teams/GSW/2016.html\">Golden State Warriors</a></td><td class=\"right\" data-stat=\"visitor_pts\">112</td><td class=\"left\" csk=\"HOU.201510300HOU\" data-stat=\"home_team_name\"><a href=\"/teams/HOU/2016.html\">Houston Rockets</a></td><td class=\"right\" data-stat=\"home_pts\">92</td><td class=\"center\" data-stat=\"box_score_text\"><a href=\"/boxscores/201510300HOU.html\">Box Score</a></td><td class=\"center iz\" data-stat=\"overtimes\"></td><td class=\"right\" data-stat=\"attendance\">18,142</td><td class=\"left\" data-stat=\"arena_name\">Toyota Center</td><td class=\"left iz\" data-stat=\"game_remarks\"></td></tr>\n",
       " <tr data-row=\"30\"><th class=\"left\" csk=\"201510300SAC\" data-stat=\"date_game\" scope=\"row\"><a href=\"/boxscores/index.fcgi?month=10&amp;day=30&amp;year=2015\">Fri, Oct 30, 2015</a></th><td class=\"right\" data-stat=\"game_start_time\">10:00p</td><td class=\"left\" csk=\"LAL.201510300SAC\" data-stat=\"visitor_team_name\"><a href=\"/teams/LAL/2016.html\">Los Angeles Lakers</a></td><td class=\"right\" data-stat=\"visitor_pts\">114</td><td class=\"left\" csk=\"SAC.201510300SAC\" data-stat=\"home_team_name\"><a href=\"/teams/SAC/2016.html\">Sacramento Kings</a></td><td class=\"right\" data-stat=\"home_pts\">132</td><td class=\"center\" data-stat=\"box_score_text\"><a href=\"/boxscores/201510300SAC.html\">Box Score</a></td><td class=\"center iz\" data-stat=\"overtimes\"></td><td class=\"right\" data-stat=\"attendance\">17,391</td><td class=\"left\" data-stat=\"arena_name\">Sleep Train Arena</td><td class=\"left iz\" data-stat=\"game_remarks\"></td></tr>\n",
       " <tr data-row=\"31\"><th class=\"left\" csk=\"201510300PHO\" data-stat=\"date_game\" scope=\"row\"><a href=\"/boxscores/index.fcgi?month=10&amp;day=30&amp;year=2015\">Fri, Oct 30, 2015</a></th><td class=\"right\" data-stat=\"game_start_time\">10:30p</td><td class=\"left\" csk=\"POR.201510300PHO\" data-stat=\"visitor_team_name\"><a href=\"/teams/POR/2016.html\">Portland Trail Blazers</a></td><td class=\"right\" data-stat=\"visitor_pts\">92</td><td class=\"left\" csk=\"PHO.201510300PHO\" data-stat=\"home_team_name\"><a href=\"/teams/PHO/2016.html\">Phoenix Suns</a></td><td class=\"right\" data-stat=\"home_pts\">110</td><td class=\"center\" data-stat=\"box_score_text\"><a href=\"/boxscores/201510300PHO.html\">Box Score</a></td><td class=\"center iz\" data-stat=\"overtimes\"></td><td class=\"right\" data-stat=\"attendance\">18,055</td><td class=\"left\" data-stat=\"arena_name\">Talking Stick Resort Arena</td><td class=\"left iz\" data-stat=\"game_remarks\"></td></tr>\n",
       " <tr data-row=\"32\"><th class=\"left\" csk=\"201510310IND\" data-stat=\"date_game\" scope=\"row\"><a href=\"/boxscores/index.fcgi?month=10&amp;day=31&amp;year=2015\">Sat, Oct 31, 2015</a></th><td class=\"right\" data-stat=\"game_start_time\">7:00p</td><td class=\"left\" csk=\"UTA.201510310IND\" data-stat=\"visitor_team_name\"><a href=\"/teams/UTA/2016.html\">Utah Jazz</a></td><td class=\"right\" data-stat=\"visitor_pts\">97</td><td class=\"left\" csk=\"IND.201510310IND\" data-stat=\"home_team_name\"><a href=\"/teams/IND/2016.html\">Indiana Pacers</a></td><td class=\"right\" data-stat=\"home_pts\">76</td><td class=\"center\" data-stat=\"box_score_text\"><a href=\"/boxscores/201510310IND.html\">Box Score</a></td><td class=\"center iz\" data-stat=\"overtimes\"></td><td class=\"right\" data-stat=\"attendance\">14,412</td><td class=\"left\" data-stat=\"arena_name\">Bankers Life Fieldhouse</td><td class=\"left iz\" data-stat=\"game_remarks\"></td></tr>\n",
       " <tr data-row=\"33\"><th class=\"left\" csk=\"201510310WAS\" data-stat=\"date_game\" scope=\"row\"><a href=\"/boxscores/index.fcgi?month=10&amp;day=31&amp;year=2015\">Sat, Oct 31, 2015</a></th><td class=\"right\" data-stat=\"game_start_time\">7:00p</td><td class=\"left\" csk=\"NYK.201510310WAS\" data-stat=\"visitor_team_name\"><a href=\"/teams/NYK/2016.html\">New York Knicks</a></td><td class=\"right\" data-stat=\"visitor_pts\">117</td><td class=\"left\" csk=\"WAS.201510310WAS\" data-stat=\"home_team_name\"><a href=\"/teams/WAS/2016.html\">Washington Wizards</a></td><td class=\"right\" data-stat=\"home_pts\">110</td><td class=\"center\" data-stat=\"box_score_text\"><a href=\"/boxscores/201510310WAS.html\">Box Score</a></td><td class=\"center iz\" data-stat=\"overtimes\"></td><td class=\"right\" data-stat=\"attendance\">20,356</td><td class=\"left\" data-stat=\"arena_name\">Verizon Center</td><td class=\"left iz\" data-stat=\"game_remarks\"></td></tr>\n",
       " <tr data-row=\"34\"><th class=\"left\" csk=\"201510310NOP\" data-stat=\"date_game\" scope=\"row\"><a href=\"/boxscores/index.fcgi?month=10&amp;day=31&amp;year=2015\">Sat, Oct 31, 2015</a></th><td class=\"right\" data-stat=\"game_start_time\">7:30p</td><td class=\"left\" csk=\"GSW.201510310NOP\" data-stat=\"visitor_team_name\"><a href=\"/teams/GSW/2016.html\">Golden State Warriors</a></td><td class=\"right\" data-stat=\"visitor_pts\">134</td><td class=\"left\" csk=\"NOP.201510310NOP\" data-stat=\"home_team_name\"><a href=\"/teams/NOP/2016.html\">New Orleans Pelicans</a></td><td class=\"right\" data-stat=\"home_pts\">120</td><td class=\"center\" data-stat=\"box_score_text\"><a href=\"/boxscores/201510310NOP.html\">Box Score</a></td><td class=\"center iz\" data-stat=\"overtimes\"></td><td class=\"right\" data-stat=\"attendance\">18,406</td><td class=\"left\" data-stat=\"arena_name\">Smoothie King Center</td><td class=\"left iz\" data-stat=\"game_remarks\"></td></tr>\n",
       " <tr data-row=\"35\"><th class=\"left\" csk=\"201510310MEM\" data-stat=\"date_game\" scope=\"row\"><a href=\"/boxscores/index.fcgi?month=10&amp;day=31&amp;year=2015\">Sat, Oct 31, 2015</a></th><td class=\"right\" data-stat=\"game_start_time\">8:00p</td><td class=\"left\" csk=\"BRK.201510310MEM\" data-stat=\"visitor_team_name\"><a href=\"/teams/BRK/2016.html\">Brooklyn Nets</a></td><td class=\"right\" data-stat=\"visitor_pts\">91</td><td class=\"left\" csk=\"MEM.201510310MEM\" data-stat=\"home_team_name\"><a href=\"/teams/MEM/2016.html\">Memphis Grizzlies</a></td><td class=\"right\" data-stat=\"home_pts\">101</td><td class=\"center\" data-stat=\"box_score_text\"><a href=\"/boxscores/201510310MEM.html\">Box Score</a></td><td class=\"center iz\" data-stat=\"overtimes\"></td><td class=\"right\" data-stat=\"attendance\">16,013</td><td class=\"left\" data-stat=\"arena_name\">FedEx Forum</td><td class=\"left iz\" data-stat=\"game_remarks\"></td></tr>\n",
       " <tr data-row=\"36\"><th class=\"left\" csk=\"201510310POR\" data-stat=\"date_game\" scope=\"row\"><a href=\"/boxscores/index.fcgi?month=10&amp;day=31&amp;year=2015\">Sat, Oct 31, 2015</a></th><td class=\"right\" data-stat=\"game_start_time\">10:00p</td><td class=\"left\" csk=\"PHO.201510310POR\" data-stat=\"visitor_team_name\"><a href=\"/teams/PHO/2016.html\">Phoenix Suns</a></td><td class=\"right\" data-stat=\"visitor_pts\">101</td><td class=\"left\" csk=\"POR.201510310POR\" data-stat=\"home_team_name\"><a href=\"/teams/POR/2016.html\">Portland Trail Blazers</a></td><td class=\"right\" data-stat=\"home_pts\">90</td><td class=\"center\" data-stat=\"box_score_text\"><a href=\"/boxscores/201510310POR.html\">Box Score</a></td><td class=\"center iz\" data-stat=\"overtimes\"></td><td class=\"right\" data-stat=\"attendance\">17,906</td><td class=\"left\" data-stat=\"arena_name\">Moda Center</td><td class=\"left iz\" data-stat=\"game_remarks\"></td></tr>\n",
       " <tr data-row=\"37\"><th class=\"left\" csk=\"201510310LAC\" data-stat=\"date_game\" scope=\"row\"><a href=\"/boxscores/index.fcgi?month=10&amp;day=31&amp;year=2015\">Sat, Oct 31, 2015</a></th><td class=\"right\" data-stat=\"game_start_time\">10:30p</td><td class=\"left\" csk=\"SAC.201510310LAC\" data-stat=\"visitor_team_name\"><a href=\"/teams/SAC/2016.html\">Sacramento Kings</a></td><td class=\"right\" data-stat=\"visitor_pts\">109</td><td class=\"left\" csk=\"LAC.201510310LAC\" data-stat=\"home_team_name\"><a href=\"/teams/LAC/2016.html\">Los Angeles Clippers</a></td><td class=\"right\" data-stat=\"home_pts\">114</td><td class=\"center\" data-stat=\"box_score_text\"><a href=\"/boxscores/201510310LAC.html\">Box Score</a></td><td class=\"center iz\" data-stat=\"overtimes\"></td><td class=\"right\" data-stat=\"attendance\">19,060</td><td class=\"left\" data-stat=\"arena_name\">STAPLES Center</td><td class=\"left iz\" data-stat=\"game_remarks\"></td></tr>\n",
       " </tbody></table>\n",
       " </div>\n",
       " </div>\n",
       " <!-- global.nonempty_tables_num: 2, table_count: 2 -->\n",
       " <!-- no Local/Partials/NoteBottom.tt2 -->\n",
       " <div class=\"section_wrapper\" id=\"bottom_nav\">\n",
       " <div class=\"section_heading\"><span class=\"section_anchor\" data-label=\"More 2015-16 NBA Pages\" data-no-inpage=\"1\" id=\"inner_nav_bottom_link\"></span><h2>More 2015-16 NBA Pages</h2></div>\n",
       " <div class=\"section_content\" id=\"bottom_nav_container\">\n",
       " <p><a href=\"/leagues/NBA_2016.html\"><u>2015-16 NBA Season</u></a></p>\n",
       " <ul class=\"\">\n",
       " <li><a href=\"NBA_2016_standings.html\">Standings</a></li>\n",
       " </ul>\n",
       " <ul class=\"\">\n",
       " <li><a href=\"NBA_2016_games.html\">Schedule and Results</a></li>\n",
       " </ul>\n",
       " <ul class=\"\">\n",
       " <li><a href=\"NBA_2016_leaders.html\">Leaders</a></li>\n",
       " </ul>\n",
       " <ul class=\"\">\n",
       " <li><a href=\"NBA_2016_coaches.html\">Coaches</a></li>\n",
       " </ul><p class=\"listhead\"><strong>Player Stats</strong></p>\n",
       " <ul class=\"\">\n",
       " <li><a href=\"/leagues/NBA_2016_per_game.html\">Per Game</a></li>\n",
       " <li><a href=\"/leagues/NBA_2016_totals.html\">Totals</a></li>\n",
       " <li><a href=\"/leagues/NBA_2016_per_minute.html\">Per 36 Minutes</a></li>\n",
       " <li><a href=\"/leagues/NBA_2016_per_poss.html\">Per 100 Possessions</a></li>\n",
       " <li><a href=\"/leagues/NBA_2016_adj_shooting.html\">Adjusted Shooting</a></li>\n",
       " <li><a href=\"/leagues/NBA_2016_advanced.html\">Advanced</a></li>\n",
       " <li><a href=\"/leagues/NBA_2016_play-by-play.html\">Play-by-Play</a></li>\n",
       " <li><a href=\"/leagues/NBA_2016_shooting.html\">Shooting</a></li>\n",
       " </ul><p class=\"listhead\"><strong>Other</strong></p>\n",
       " <ul class=\"\">\n",
       " <li><a href=\"/leagues/NBA_2016_rookies.html\">Rookies</a></li>\n",
       " <li><a href=\"/leagues/NBA_2016_final.html\">Final Season</a></li>\n",
       " <li><a href=\"/leagues/NBA_2016_ratings.html\">Team Ratings</a></li>\n",
       " <li><a href=\"/leagues/NBA_2016_numbers.html\">Uniform Numbers</a></li>\n",
       " <li><a href=\"/leagues/NBA_2016_transactions.html\">Transactions</a></li>\n",
       " <li><a href=\"/leagues/NBA_2016_standings_by_date.html\">Standings by Date</a></li>\n",
       " <li><a href=\"/leagues/NBA_2016_preseason_odds.html\">Preseason Odds</a></li>\n",
       " </ul><p class=\"listhead\"><a href=\"/playoffs/NBA_2016.html\">2016 Playoffs Summary</a></p>\n",
       " <ul class=\"\">\n",
       " </ul></div></div>\n",
       " </div>]"
      ]
     },
     "execution_count": 66,
     "metadata": {},
     "output_type": "execute_result"
    }
   ],
   "source": [
    "rows"
   ]
  },
  {
   "cell_type": "code",
   "execution_count": null,
   "id": "52ef778d-d6dd-4481-8e59-3491578c2532",
   "metadata": {},
   "outputs": [],
   "source": []
  }
 ],
 "metadata": {
  "kernelspec": {
   "display_name": "PythonData",
   "language": "python",
   "name": "pythondata"
  },
  "language_info": {
   "codemirror_mode": {
    "name": "ipython",
    "version": 3
   },
   "file_extension": ".py",
   "mimetype": "text/x-python",
   "name": "python",
   "nbconvert_exporter": "python",
   "pygments_lexer": "ipython3",
   "version": "3.9.12"
  }
 },
 "nbformat": 4,
 "nbformat_minor": 5
}
