{
 "cells": [
  {
   "cell_type": "code",
   "execution_count": 17,
   "id": "490f785d-2bf5-4e04-bbca-34e2ed4c8a82",
   "metadata": {},
   "outputs": [],
   "source": [
    "# Import Splinter and BeautifulSoup\n",
    "from splinter import Browser\n",
    "from bs4 import BeautifulSoup\n",
    "from webdriver_manager.chrome import ChromeDriverManager\n",
    "import pandas as pd\n",
    "import os\n",
    "import time\n",
    "import requests"
   ]
  },
  {
   "cell_type": "code",
   "execution_count": 2,
   "id": "cd15ee5e-d0be-4dee-8ef9-968adec771f9",
   "metadata": {},
   "outputs": [],
   "source": [
    "SEASON = 2023"
   ]
  },
  {
   "cell_type": "code",
   "execution_count": 3,
   "id": "b122897c-e1a2-4880-890d-896c284cd7cc",
   "metadata": {},
   "outputs": [],
   "source": [
    "DATA_DIR = 'data'\n",
    "STANDINGS_DIR = os.path.join(DATA_DIR, 'standings')\n",
    "SCORES_DIR = os.path.join(DATA_DIR, 'scores')"
   ]
  },
  {
   "cell_type": "code",
   "execution_count": 4,
   "id": "c0cad294-1b08-403d-8d59-a82dfcc3eedc",
   "metadata": {},
   "outputs": [],
   "source": [
    "def get_html(url, sleep=5, retries=3):\n",
    "    \n",
    "    for i in range(1, retries+1):\n",
    "        time.sleep(sleep * i)\n",
    "        \n",
    "        try:\n",
    "            response = requests.get(url, timeout=10)\n",
    "            soup = BeautifulSoup(response.content, 'html.parser')\n",
    "            print(soup.title.string)\n",
    "            return str(soup)\n",
    "        except requests.exceptions.Timeout:\n",
    "            print(f'Timeout error on {url}')\n",
    "            \n",
    "    return None"
   ]
  },
  {
   "cell_type": "code",
   "execution_count": 5,
   "id": "cf4876e2-bb28-4ce5-92fa-5d8a19e3e195",
   "metadata": {},
   "outputs": [],
   "source": [
    "def scrape_season(season):\n",
    "    if not os.path.exists(STANDINGS_DIR):\n",
    "        os.makedirs(STANDINGS_DIR)\n",
    "\n",
    "    url = f\"https://www.basketball-reference.com/leagues/NBA_{season}_games.html\"\n",
    "    \n",
    "    html = get_html(url)\n",
    "    soup = BeautifulSoup(html, 'html.parser')\n",
    "    divs = soup.find_all('div', {'class': 'filter'})[0].find_all('div')\n",
    "    href_list = [a.get('href') for div in divs for a in div.find_all('a')]\n",
    "    standings_pages = [f'https://basketball-reference.com{l}' for l in href_list]\n",
    "\n",
    "    for url in standings_pages:\n",
    "        save_path = os.path.join(STANDINGS_DIR, url.split('/')[-1])\n",
    "        if os.path.exists(save_path):\n",
    "            continue\n",
    "        html = get_html(url)\n",
    "        if html is None:\n",
    "            continue\n",
    "        soup = BeautifulSoup(html, 'html.parser')\n",
    "        html = soup.find(id='all_schedule')\n",
    "        with open(save_path, 'w+') as f:\n",
    "            f.write(str(html))"
   ]
  },
  {
   "cell_type": "code",
   "execution_count": 13,
   "id": "f45dd3ac-f18f-48ec-8eff-02dc9f4992f4",
   "metadata": {},
   "outputs": [
    {
     "name": "stdout",
     "output_type": "stream",
     "text": [
      "2022-23 NBA Schedule | Basketball-Reference.com\n",
      "2022-23 NBA Schedule | Basketball-Reference.com\n"
     ]
    }
   ],
   "source": [
    "#for season in SEASONS:\n",
    "scrape_season(SEASON)"
   ]
  },
  {
   "cell_type": "code",
   "execution_count": 14,
   "id": "ed222abc-ab3f-43f9-9c5e-bba845343cfa",
   "metadata": {},
   "outputs": [],
   "source": [
    "standings_files = os.listdir(STANDINGS_DIR)"
   ]
  },
  {
   "cell_type": "code",
   "execution_count": 15,
   "id": "9b03e155-8943-4967-a9f4-cd7f0cf81306",
   "metadata": {},
   "outputs": [],
   "source": [
    "def scrape_game(standings_file):\n",
    "\n",
    "    with open(standings_file, 'r') as f:\n",
    "        html = f.read()\n",
    "\n",
    "    soup = BeautifulSoup(html, 'lxml')\n",
    "    links = soup.find_all('a')\n",
    "    hrefs = [l.get('href') for l in links]\n",
    "    box_scores = [l for l in hrefs if l and 'boxscore' in l and '.html' in l]\n",
    "    box_scores = [f'https://www.basketball-reference.com{l}' for l in box_scores]\n",
    "\n",
    "    for url in box_scores:\n",
    "        save_path = os.path.join(SCORES_DIR, url.split('/')[-1])\n",
    "        if os.path.exists(save_path):\n",
    "            continue\n",
    "\n",
    "        html = get_html(url)\n",
    "        html = BeautifulSoup(html, 'lxml').find(id='content')\n",
    "        if not html:\n",
    "            continue\n",
    "        with open(save_path, 'w+', encoding='utf-8') as f:\n",
    "            f.write(str(html))"
   ]
  },
  {
   "cell_type": "code",
   "execution_count": 16,
   "id": "36d9afb9-091b-4ce8-8cfa-7eca8895296b",
   "metadata": {},
   "outputs": [
    {
     "name": "stdout",
     "output_type": "stream",
     "text": [
      "Mavericks vs Hornets, March 26, 2023 | Basketball-Reference.com\n",
      "Bulls vs Lakers, March 26, 2023 | Basketball-Reference.com\n",
      "Grizzlies vs Hawks, March 26, 2023 | Basketball-Reference.com\n",
      "Spurs vs Celtics, March 26, 2023 | Basketball-Reference.com\n",
      "Rockets vs Cavaliers, March 26, 2023 | Basketball-Reference.com\n",
      "Nets vs Magic, March 26, 2023 | Basketball-Reference.com\n",
      "Wizards vs Raptors, March 26, 2023 | Basketball-Reference.com\n",
      "Thunder vs Trail Blazers, March 26, 2023 | Basketball-Reference.com\n",
      "Timberwolves vs Warriors, March 26, 2023 | Basketball-Reference.com\n"
     ]
    }
   ],
   "source": [
    "standings_files = [s for s in standings_files if '.html' in s]\n",
    "updated_files = [s for s in standings_files if 'march' in s]\n",
    "\n",
    "for f in updated_files:\n",
    "    \n",
    "    filepath = os.path.join(STANDINGS_DIR, f)\n",
    "        \n",
    "    scrape_game(filepath)"
   ]
  },
  {
   "cell_type": "code",
   "execution_count": null,
   "id": "cd785667-53b0-4868-94da-c344ed748105",
   "metadata": {},
   "outputs": [],
   "source": []
  }
 ],
 "metadata": {
  "kernelspec": {
   "display_name": "PythonData",
   "language": "python",
   "name": "pythondata"
  },
  "language_info": {
   "codemirror_mode": {
    "name": "ipython",
    "version": 3
   },
   "file_extension": ".py",
   "mimetype": "text/x-python",
   "name": "python",
   "nbconvert_exporter": "python",
   "pygments_lexer": "ipython3",
   "version": "3.9.12"
  }
 },
 "nbformat": 4,
 "nbformat_minor": 5
}
